{
  "nbformat": 4,
  "nbformat_minor": 0,
  "metadata": {
    "colab": {
      "provenance": [],
      "include_colab_link": true
    },
    "kernelspec": {
      "name": "python3",
      "display_name": "Python 3"
    },
    "language_info": {
      "name": "python"
    }
  },
  "cells": [
    {
      "cell_type": "markdown",
      "metadata": {
        "id": "view-in-github",
        "colab_type": "text"
      },
      "source": [
        "<a href=\"https://colab.research.google.com/github/santosh0493/iitk_masters/blob/main/Primer_Week_03_Day_05.ipynb\" target=\"_parent\"><img src=\"https://colab.research.google.com/assets/colab-badge.svg\" alt=\"Open In Colab\"/></a>"
      ]
    },
    {
      "cell_type": "markdown",
      "source": [
        "# Coverage\n",
        "* Vectors and vector operations(addition, subtraction, scalar\n",
        "multiplication, dot product of two\n",
        "matrices)\n",
        "* Matrices, types and matrix operations (multiplication, transposition)\n",
        "* Eigenvalues and eigenvectors\n",
        "* Derivatives\n",
        "* Integrations\n",
        "     * Definite\n",
        "     * Indefinite\n"
      ],
      "metadata": {
        "id": "m95OoeLx-Mgi"
      }
    },
    {
      "cell_type": "code",
      "source": [
        "import numpy as np"
      ],
      "metadata": {
        "id": "4z0p-Rkxpo3K"
      },
      "execution_count": null,
      "outputs": []
    },
    {
      "cell_type": "markdown",
      "source": [
        "**Vectors**\n",
        "\n",
        "A vector in a simple term can be considered as a single-dimensional array. With respect to Python, a vector is a one-dimensional array of lists. It occupies the elements in a similar manner as that of a Python list.\n"
      ],
      "metadata": {
        "id": "sU4dNOgmpNq0"
      }
    },
    {
      "cell_type": "code",
      "execution_count": null,
      "metadata": {
        "id": "nRRr1RoD92dk",
        "colab": {
          "base_uri": "https://localhost:8080/"
        },
        "outputId": "98c81097-10bf-43bc-b7b6-44a3a072f49d"
      },
      "outputs": [
        {
          "output_type": "execute_result",
          "data": {
            "text/plain": [
              "array(<class 'list'>, dtype=object)"
            ]
          },
          "metadata": {},
          "execution_count": 3
        }
      ],
      "source": [
        "# Creation of a Vector\n",
        "np.array(list) # Syntax"
      ]
    },
    {
      "cell_type": "markdown",
      "source": [
        "* Syntax : np.array(list)\n",
        "* Argument : It take 1-D list it can be 1 row and n columns or n rows and 1 column\n",
        "* Return : It returns vector which is numpy.ndarray"
      ],
      "metadata": {
        "id": "byit38phqRPb"
      }
    },
    {
      "cell_type": "code",
      "source": [
        "# importing numpy\n",
        "import numpy as np\n",
        "\n",
        "# creating a 1-D list (Horizontal)\n",
        "list1 = [1, 2, 3]\n",
        "\n",
        "# creating a 1-D list (Vertical)\n",
        "list2 = [[10],\n",
        "\t\t[20],\n",
        "\t\t[30]]\n",
        "\n",
        "# creating a vector1\n",
        "# vector as row\n",
        "vector1 = np.array(list1)\n",
        "\n",
        "# creating a vector 2\n",
        "# vector as column\n",
        "vector2 = np.array(list2)\n",
        "\n",
        "\n",
        "# showing horizontal vector\n",
        "print(\"Horizontal Vector\")\n",
        "print(vector1)\n",
        "\n",
        "print(\"----------------\")\n",
        "\n",
        "# showing vertical vector\n",
        "print(\"Vertical Vector\")\n",
        "print(vector2)\n"
      ],
      "metadata": {
        "colab": {
          "base_uri": "https://localhost:8080/"
        },
        "id": "50_Dx-yypwax",
        "outputId": "a671361d-96ac-4e75-dc87-f9e0ff334830"
      },
      "execution_count": null,
      "outputs": [
        {
          "output_type": "stream",
          "name": "stdout",
          "text": [
            "Horizontal Vector\n",
            "[1 2 3]\n",
            "----------------\n",
            "Vertical Vector\n",
            "[[10]\n",
            " [20]\n",
            " [30]]\n"
          ]
        }
      ]
    },
    {
      "cell_type": "markdown",
      "source": [
        "* Basic Operations on Vectors\n",
        "* Addition\n",
        "* Subtraction\n",
        "* Multiplication\n",
        "* Division\n",
        "* The above arithmetic operations which are element-wise between two vectors of equal length to result in a new vector with the same length\n",
        "* Dot Product\n",
        "*\n"
      ],
      "metadata": {
        "id": "jOTW7CQMqkt9"
      }
    },
    {
      "cell_type": "code",
      "source": [
        "# importing numpy\n",
        "import numpy as np\n",
        "\n",
        "# creating a 1-D list (Horizontal)\n",
        "list1 = [5, 6, 9]\n",
        "\n",
        "# creating a 1-D list (Horizontal)\n",
        "list2 = [1, 2, 3]\n",
        "\n",
        "# creating first vector\n",
        "vector1 = np.array(list1)\n",
        "\n",
        "# printing vector1\n",
        "print(\"First Vector\t\t : \" + str(vector1))\n",
        "\n",
        "# creating second vector\n",
        "vector2 = np.array(list2)\n",
        "\n",
        "# printing vector2\n",
        "print(\"Second Vector\t\t : \" + str(vector2))\n",
        "\n",
        "# adding both the vector\n",
        "# a + b = (a1 + b1, a2 + b2, a3 + b3)\n",
        "addition = vector1 + vector2\n",
        "\n",
        "# printing addition vector\n",
        "print(\"Vector Addition\t : \" + str(addition))\n",
        "\n",
        "# subtracting both the vector\n",
        "# a - b = (a1 - b1, a2 - b2, a3 - b3)\n",
        "subtraction = vector1 - vector2\n",
        "\n",
        "# printing addition vector\n",
        "print(\"Vector Subtraction : \" + str(subtraction))\n",
        "\n",
        "# multiplying both the vector\n",
        "# a * b = (a1 * b1, a2 * b2, a3 * b3)\n",
        "multiplication = vector1 * vector2\n",
        "\n",
        "# printing multiplication vector\n",
        "print(\"Vector Multiplication : \" + str(multiplication))\n",
        "\n",
        "# dividing both the vector\n",
        "# a / b = (a1 / b1, a2 / b2, a3 / b3)\n",
        "division = vector1 / vector2\n",
        "\n",
        "# printing division vector\n",
        "print(\"Vector Division\t : \" + str(division))\n"
      ],
      "metadata": {
        "colab": {
          "base_uri": "https://localhost:8080/"
        },
        "id": "i-W0eaF7qh_O",
        "outputId": "57308a09-f0a5-4d76-e6ba-8703dd4da6a2"
      },
      "execution_count": null,
      "outputs": [
        {
          "output_type": "stream",
          "name": "stdout",
          "text": [
            "First Vector\t\t : [5 6 9]\n",
            "Second Vector\t\t : [1 2 3]\n",
            "Vector Addition\t : [ 6  8 12]\n",
            "Vector Subtraction : [4 4 6]\n",
            "Vector Multiplication : [ 5 12 27]\n",
            "Vector Division\t : [5. 3. 3.]\n"
          ]
        }
      ]
    },
    {
      "cell_type": "markdown",
      "source": [
        "* Dot Product\n",
        "* - In mathematics, the dot product or scalar product is an algebraic operation that takes two equal-length sequences of numbers and returns a single number."
      ],
      "metadata": {
        "id": "71qNWLierjdZ"
      }
    },
    {
      "cell_type": "code",
      "source": [
        "# importing numpy\n",
        "import numpy as np\n",
        "\n",
        "# creating a 1-D list (Horizontal)\n",
        "list1 = [5, 6, 9]\n",
        "\n",
        "# creating a 1-D list (Horizontal)\n",
        "list2 = [1, 2, 3]\n",
        "\n",
        "# creating first vector\n",
        "vector1 = np.array(list1)\n",
        "\n",
        "# printing vector1\n",
        "print(\"First Vector : \" + str(vector1))\n",
        "\n",
        "# creating second vector\n",
        "vector2 = np.array(list2)\n",
        "\n",
        "# printing vector2\n",
        "print(\"Second Vector : \" + str(vector2))\n",
        "\n",
        "# getting dot product of both the vectors\n",
        "# a . b = (a1 * b1 + a2 * b2 + a3 * b3)\n",
        "# a . b = (a1b1 + a2b2 + a3b3)\n",
        "dot_product = vector1.dot(vector2)\n",
        "\n",
        "# printing dot product\n",
        "print(\"Dot Product : \" + str(dot_product))\n"
      ],
      "metadata": {
        "colab": {
          "base_uri": "https://localhost:8080/"
        },
        "id": "e46RImsmrpsG",
        "outputId": "6ef33687-897b-424e-a6ee-5ec368b36459"
      },
      "execution_count": null,
      "outputs": [
        {
          "output_type": "stream",
          "name": "stdout",
          "text": [
            "First Vector : [5 6 9]\n",
            "Second Vector : [1 2 3]\n",
            "Dot Product : 44\n"
          ]
        }
      ]
    },
    {
      "cell_type": "markdown",
      "source": [
        "* Vector Scalar Multiplication\n",
        "* Multiplying a vector by a scalar is called scalar multiplication. To perform scalar multiplication, we need to multiply the scalar by each component of the vector."
      ],
      "metadata": {
        "id": "K1ZvLB-Dr6zo"
      }
    },
    {
      "cell_type": "code",
      "source": [
        "# importing numpy\n",
        "import numpy as np\n",
        "\n",
        "# creating a 1-D list (Horizontal)\n",
        "list1 = [1, 2, 3]\n",
        "\n",
        "# creating first vector\n",
        "vector = np.array(list1)\n",
        "\n",
        "# printing vector1\n",
        "print(\"Vector : \" + str(vector))\n",
        "\n",
        "# scalar value\n",
        "scalar = 2\n",
        "\n",
        "# printing scalar value\n",
        "print(\"Scalar : \" + str(scalar))\n",
        "\n",
        "# getting scalar multiplication value\n",
        "# s * v = (s * v1, s * v2, s * v3)\n",
        "scalar_mul = vector * scalar\n",
        "\n",
        "# printing dot product\n",
        "print(\"Scalar Multiplication : \" + str(scalar_mul))"
      ],
      "metadata": {
        "colab": {
          "base_uri": "https://localhost:8080/"
        },
        "id": "U1EGJ73csD_b",
        "outputId": "07253033-c0a3-4229-d6ad-71a3cf21cc2f"
      },
      "execution_count": null,
      "outputs": [
        {
          "output_type": "stream",
          "name": "stdout",
          "text": [
            "Vector : [1 2 3]\n",
            "Scalar : 2\n",
            "Scalar Multiplication : [2 4 6]\n"
          ]
        }
      ]
    },
    {
      "cell_type": "markdown",
      "source": [
        "# Matrices"
      ],
      "metadata": {
        "id": "5I3NLeKFsre1"
      }
    },
    {
      "cell_type": "markdown",
      "source": [
        "* A matrix is a two-dimensional data structure where numbers are arranged into rows and columns.\n",
        "![image.png](data:image/png;base64,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)\n",
        "\n",
        "* The above matrix is a 3x3 (pronounced \"three by three\") matrix because it has 3 rows and 3 columns."
      ],
      "metadata": {
        "id": "PKqbQKCus8vw"
      }
    },
    {
      "cell_type": "code",
      "source": [
        "# Creation of Matrix\n",
        "import numpy as np\n",
        "\n",
        "# create a 2x2 matrix\n",
        "matrix1 = np.array([[1, 3],\n",
        "                   [5, 7]])\n",
        "\n",
        "print(\"2x2 Matrix:\\n\",matrix1)\n",
        "\n",
        "# create a 3x3  matrix\n",
        "matrix2 = np.array([[2, 3, 5],\n",
        "             \t    [7, 14, 21],\n",
        "                    [1, 3, 5]])\n",
        "\n",
        "print(\"\\n3x3 Matrix:\\n\",matrix2)\n"
      ],
      "metadata": {
        "colab": {
          "base_uri": "https://localhost:8080/"
        },
        "id": "4nIJ4g4mswBs",
        "outputId": "c51062c2-5a93-4fa8-955c-9e5e4e85f309"
      },
      "execution_count": null,
      "outputs": [
        {
          "output_type": "stream",
          "name": "stdout",
          "text": [
            "2x2 Matrix:\n",
            " [[1 3]\n",
            " [5 7]]\n",
            "\n",
            "3x3 Matrix:\n",
            " [[ 2  3  5]\n",
            " [ 7 14 21]\n",
            " [ 1  3  5]]\n"
          ]
        }
      ]
    },
    {
      "cell_type": "markdown",
      "source": [
        "* Basic Operations on Matrices\n",
        "* add() :- This function is used to perform element wise matrix addition.\n",
        "* subtract() :- This function is used to perform element wise matrix subtraction.\n",
        "* divide() :- This function is used to perform element wise matrix division."
      ],
      "metadata": {
        "id": "wdZ7YxQ2tuQo"
      }
    },
    {
      "cell_type": "code",
      "source": [
        "# Python code to demonstrate matrix operations\n",
        "# add(), subtract() and divide()\n",
        "\n",
        "# importing numpy for matrix operations\n",
        "import numpy\n",
        "\n",
        "# initializing matrices\n",
        "x = numpy.array([[1, 2], [4, 5]])\n",
        "y = numpy.array([[7, 8], [9, 10]])\n",
        "\n",
        "# using add() to add matrices\n",
        "print (\"The element wise addition of matrix is : \")\n",
        "print (numpy.add(x,y))\n",
        "\n",
        "# using subtract() to subtract matrices\n",
        "print (\"The element wise subtraction of matrix is : \")\n",
        "print (numpy.subtract(x,y))\n",
        "\n",
        "# using divide() to divide matrices\n",
        "print (\"The element wise division of matrix is : \")\n",
        "print (numpy.divide(x,y))\n"
      ],
      "metadata": {
        "colab": {
          "base_uri": "https://localhost:8080/"
        },
        "id": "OrUlJ0dAt-Yi",
        "outputId": "2a72ceb4-4c50-4633-8e51-200d5f5d7d13"
      },
      "execution_count": null,
      "outputs": [
        {
          "output_type": "stream",
          "name": "stdout",
          "text": [
            "The element wise addition of matrix is : \n",
            "[[ 8 10]\n",
            " [13 15]]\n",
            "The element wise subtraction of matrix is : \n",
            "[[-6 -6]\n",
            " [-5 -5]]\n",
            "The element wise division of matrix is : \n",
            "[[0.14285714 0.25      ]\n",
            " [0.44444444 0.5       ]]\n"
          ]
        }
      ]
    },
    {
      "cell_type": "markdown",
      "source": [
        "* multiply() :- This function is used to perform element wise matrix multiplication.\n",
        "* dot() :- This function is used to compute the matrix multiplication, rather than element wise multiplication."
      ],
      "metadata": {
        "id": "_9FYAFcGuMpE"
      }
    },
    {
      "cell_type": "code",
      "source": [
        "# Python code to demonstrate matrix operations\n",
        "# multiply() and dot()\n",
        "\n",
        "# importing numpy for matrix operations\n",
        "import numpy\n",
        "\n",
        "# initializing matrices\n",
        "x = numpy.array([[1, 2], [4, 5]])\n",
        "y = numpy.array([[7, 8,4], [9, 10,4]])\n",
        "\n",
        "# using multiply() to multiply matrices element wise\n",
        "#print (\"The element wise multiplication of matrix is : \")\n",
        "#print (numpy.multiply(x,y)) # Hadamard Product\n",
        "\n",
        "# using dot() to multiply matrices\n",
        "print (\"The product of matrices is : \")\n",
        "print (numpy.dot(x,y))\n"
      ],
      "metadata": {
        "colab": {
          "base_uri": "https://localhost:8080/"
        },
        "id": "_DgtVu8auH_1",
        "outputId": "361ccd13-9d36-4367-c51f-0beeb0d08830"
      },
      "execution_count": null,
      "outputs": [
        {
          "output_type": "stream",
          "name": "stdout",
          "text": [
            "The product of matrices is : \n",
            "[[25 28 12]\n",
            " [73 82 36]]\n"
          ]
        }
      ]
    },
    {
      "cell_type": "code",
      "source": [
        "x @ y"
      ],
      "metadata": {
        "colab": {
          "base_uri": "https://localhost:8080/"
        },
        "id": "GsBCl1Cuv_uL",
        "outputId": "b7af8f72-b601-4a70-c147-28c1ec64b6db"
      },
      "execution_count": null,
      "outputs": [
        {
          "output_type": "execute_result",
          "data": {
            "text/plain": [
              "array([[25, 28, 12],\n",
              "       [73, 82, 36]])"
            ]
          },
          "metadata": {},
          "execution_count": 18
        }
      ]
    },
    {
      "cell_type": "code",
      "source": [
        "x.size"
      ],
      "metadata": {
        "colab": {
          "base_uri": "https://localhost:8080/"
        },
        "id": "71mSW7ODwGuh",
        "outputId": "5a760552-717c-45c5-ecf4-8c973485f0ea"
      },
      "execution_count": null,
      "outputs": [
        {
          "output_type": "execute_result",
          "data": {
            "text/plain": [
              "4"
            ]
          },
          "metadata": {},
          "execution_count": 19
        }
      ]
    },
    {
      "cell_type": "code",
      "source": [
        "x.ndim"
      ],
      "metadata": {
        "colab": {
          "base_uri": "https://localhost:8080/"
        },
        "id": "_59UgNrgwK-3",
        "outputId": "7e9a44ac-2391-472c-e706-3db09a79d474"
      },
      "execution_count": null,
      "outputs": [
        {
          "output_type": "execute_result",
          "data": {
            "text/plain": [
              "2"
            ]
          },
          "metadata": {},
          "execution_count": 20
        }
      ]
    },
    {
      "cell_type": "code",
      "source": [
        "x.T"
      ],
      "metadata": {
        "colab": {
          "base_uri": "https://localhost:8080/"
        },
        "id": "52l5I2lVwcX7",
        "outputId": "c12bad57-5ac0-400c-8ebb-6c760f451fb7"
      },
      "execution_count": null,
      "outputs": [
        {
          "output_type": "execute_result",
          "data": {
            "text/plain": [
              "array([[1, 4],\n",
              "       [2, 5]])"
            ]
          },
          "metadata": {},
          "execution_count": 21
        }
      ]
    },
    {
      "cell_type": "markdown",
      "source": [
        "### **Solving Linear Equation**\n",
        "\n",
        "Solve value of x and y and z.\n",
        "\n",
        "$2x + y - 3z = 6$\n",
        "\n",
        "$4x - 11y + 20z = 10$\n",
        "\n",
        "$3x + 6y - 9z = 7$"
      ],
      "metadata": {
        "id": "FopdQENmuw9y"
      }
    },
    {
      "cell_type": "code",
      "source": [
        "from numpy import linalg"
      ],
      "metadata": {
        "id": "lzMlftiIxBS1"
      },
      "execution_count": null,
      "outputs": []
    },
    {
      "cell_type": "code",
      "source": [
        "A = np.array([[2, 1, -3], [4, -11, 20], [3, 6, -9]])\n",
        "B = np.array([6, 10, 7])\n",
        "\n",
        "linalg.solve(A, B)"
      ],
      "metadata": {
        "colab": {
          "base_uri": "https://localhost:8080/"
        },
        "id": "FpJ0W8dCw-fA",
        "outputId": "ac890e17-c409-4055-dced-a069887e62f6"
      },
      "execution_count": null,
      "outputs": [
        {
          "output_type": "execute_result",
          "data": {
            "text/plain": [
              "array([ 2.62393162, -1.04273504, -0.5982906 ])"
            ]
          },
          "metadata": {},
          "execution_count": 23
        }
      ]
    },
    {
      "cell_type": "markdown",
      "source": [
        "### $A^{-1} = \\frac{adj(A)}{|A|}$"
      ],
      "metadata": {
        "id": "UUEJuLbGuaJ_"
      }
    },
    {
      "cell_type": "code",
      "source": [
        "linalg.inv(A)"
      ],
      "metadata": {
        "colab": {
          "base_uri": "https://localhost:8080/"
        },
        "id": "8VM84Gc1xWMn",
        "outputId": "37900551-0417-4cd4-938f-b600464f21ba"
      },
      "execution_count": null,
      "outputs": [
        {
          "output_type": "execute_result",
          "data": {
            "text/plain": [
              "array([[ 0.17948718,  0.07692308,  0.11111111],\n",
              "       [-0.82051282,  0.07692308,  0.44444444],\n",
              "       [-0.48717949,  0.07692308,  0.22222222]])"
            ]
          },
          "metadata": {},
          "execution_count": 24
        }
      ]
    },
    {
      "cell_type": "markdown",
      "source": [
        "# EigenValues and Eigen vectors\n"
      ],
      "metadata": {
        "id": "t7rUF9xeyFmt"
      }
    },
    {
      "cell_type": "markdown",
      "source": [
        "* Eigenvalues and Eigenvectors are the scalar and vector quantities associated with Matrix used for linear transformation. The vector that does not change even after applying transformations is called the Eigenvector and the scalar value attached to Eigenvectors is called Eigenvalues. Eigenvectors are the vectors that are associated with a set of linear equations. For a matrix, eigenvectors are also called characteristic vectors, and we can find the eigenvector of only square matrices. Eigenvectors are very useful in solving various problems of matrices and differential equations.\n",
        "* Eigenvalues are the scalar values associated with the eigenvectors in linear transformation.\n",
        "* Av = λv\n",
        "* A is the matrix,\n",
        "* v is associated eigenvector, and\n",
        "* λ is scalar eigenvalue."
      ],
      "metadata": {
        "id": "_WNR7TERyXC_"
      }
    },
    {
      "cell_type": "markdown",
      "source": [
        "* Syntax: numpy.linalg.eig()"
      ],
      "metadata": {
        "id": "ag1oubNRzIxt"
      }
    },
    {
      "cell_type": "code",
      "source": [
        "# importing numpy library\n",
        "import numpy as np\n",
        "\n",
        "# create numpy 2d-array\n",
        "m = np.array([[1, 2],\n",
        "\t\t\t[2, 3]])\n",
        "\n",
        "print(\"Printing the Original square array:\\n\",\n",
        "\tm)\n",
        "\n",
        "# finding eigenvalues and eigenvectors\n",
        "w, v = np.linalg.eig(m)\n",
        "\n",
        "# printing eigen values\n",
        "print(\"Printing the Eigen values of the given square array:\\n\",\n",
        "\tw)\n",
        "\n",
        "# printing eigen vectors\n",
        "print(\"Printing Right eigenvectors of the given square array:\\n\",\n",
        "\tv)\n"
      ],
      "metadata": {
        "colab": {
          "base_uri": "https://localhost:8080/"
        },
        "id": "sIWgxT6UyJ8E",
        "outputId": "a7e45f63-37ad-4b05-e2eb-cdfa6f97692c"
      },
      "execution_count": null,
      "outputs": [
        {
          "output_type": "stream",
          "name": "stdout",
          "text": [
            "Printing the Original square array:\n",
            " [[1 2]\n",
            " [2 3]]\n",
            "Printing the Eigen values of the given square array:\n",
            " [-0.23606798  4.23606798]\n",
            "Printing Right eigenvectors of the given square array:\n",
            " [[-0.85065081 -0.52573111]\n",
            " [ 0.52573111 -0.85065081]]\n"
          ]
        }
      ]
    },
    {
      "cell_type": "markdown",
      "source": [
        "# Derivatives\n",
        "* sympy.Derivative()\n",
        "* sympy.diff()\n",
        "* Syntax : sympy.diff(expression, reference variable) Return : Return differentiation of mathematical expression."
      ],
      "metadata": {
        "id": "g6uZLgMXz1ik"
      }
    },
    {
      "cell_type": "code",
      "source": [
        "x = sp.symbols('x')\n",
        "\n",
        "f = x**3\n",
        "\n",
        "derivative = sp.diff(f, x)\n",
        "derivative"
      ],
      "metadata": {
        "colab": {
          "base_uri": "https://localhost:8080/",
          "height": 39
        },
        "id": "sHhgzrAv1uQ8",
        "outputId": "e3a1bb17-66fa-480f-d8f5-d0d7d8607880"
      },
      "execution_count": null,
      "outputs": [
        {
          "output_type": "execute_result",
          "data": {
            "text/plain": [
              "3*x**2"
            ],
            "text/latex": "$\\displaystyle 3 x^{2}$"
          },
          "metadata": {},
          "execution_count": 28
        }
      ]
    },
    {
      "cell_type": "code",
      "source": [
        "import sympy as sp\n",
        "\n",
        "# Define the variables\n",
        "x, y = sp.symbols('x y')\n",
        "\n",
        "# In Python, symbols play a crucial role in declaring variables for mathematical expressions and polynomials.\n",
        "# A symbol is a name that represents a specific value or an object in Python programming language.\n",
        "\n",
        "# Multivariable function\n",
        "f = x**2 + y**2 + 2*x*y\n",
        "\n",
        "# Calculate the gradient\n",
        "gradient = [sp.diff(f, var) for var in (x, y)]\n",
        "gradient"
      ],
      "metadata": {
        "colab": {
          "base_uri": "https://localhost:8080/"
        },
        "id": "M2LnoPMN0BVS",
        "outputId": "d1d5c6eb-8af1-47a8-d74e-75c5affb0b25"
      },
      "execution_count": null,
      "outputs": [
        {
          "output_type": "execute_result",
          "data": {
            "text/plain": [
              "[2*x + 2*y, 2*x + 2*y]"
            ]
          },
          "metadata": {},
          "execution_count": 27
        }
      ]
    },
    {
      "cell_type": "markdown",
      "source": [
        "# Integrals\n"
      ],
      "metadata": {
        "id": "VxKdvLJE2Fg8"
      }
    },
    {
      "cell_type": "code",
      "source": [
        "f = 3*x**2\n",
        "integral = sp.integrate(f, x)\n",
        "integral"
      ],
      "metadata": {
        "colab": {
          "base_uri": "https://localhost:8080/",
          "height": 39
        },
        "id": "NGf7J7n82WQ1",
        "outputId": "3e443317-8eb7-43cc-84b4-3ca16add747e"
      },
      "execution_count": null,
      "outputs": [
        {
          "output_type": "execute_result",
          "data": {
            "text/plain": [
              "x**3"
            ],
            "text/latex": "$\\displaystyle x^{3}$"
          },
          "metadata": {},
          "execution_count": 29
        }
      ]
    },
    {
      "cell_type": "code",
      "source": [
        "import numpy as np\n",
        "from scipy.integrate import quad\n",
        "import sympy as sp\n",
        "\n",
        "# Define the function to integrate\n",
        "def f(x):\n",
        "    return x**2\n",
        "\n",
        "# Definite integration with scipy.integrate.quad\n",
        "a = 0  # Lower limit\n",
        "b = 1  # Upper limit\n",
        "definite_integral, error = quad(f, a, b)\n",
        "print(f\"Definite Integral of x^2 from {a} to {b}: {definite_integral}\")\n",
        "\n",
        "# Indefinite integration with sympy\n",
        "x = sp.symbols('x')\n",
        "indefinite_integral = sp.integrate(x**2, x)\n",
        "print(f\"Indefinite Integral of x^2: {indefinite_integral} + C\")\n"
      ],
      "metadata": {
        "colab": {
          "base_uri": "https://localhost:8080/"
        },
        "id": "qee1Pfcu17GH",
        "outputId": "8950758c-ab99-473b-acdb-482e015eb4b5"
      },
      "execution_count": null,
      "outputs": [
        {
          "output_type": "stream",
          "name": "stdout",
          "text": [
            "Definite Integral of x^2 from 0 to 1: 0.33333333333333337\n",
            "Indefinite Integral of x^2: x**3/3 + C\n"
          ]
        }
      ]
    }
  ]
}